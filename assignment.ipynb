{
 "cells": [
  {
   "cell_type": "markdown",
   "metadata": {},
   "source": [
    "D"
   ]
  },
  {
   "cell_type": "code",
   "execution_count": null,
   "metadata": {},
   "outputs": [],
   "source": [
    "memo = [[-1 for i in range(105)] for j in range(205)]\n",
    "\n",
    "def monkey_banana_problem(bananas, i, j, N):\n",
    "    if i >= 2 * N - 1 or j >= len(bananas[i]) or j < 0:\n",
    "        return 0 \n",
    "\n",
    "    if memo[i][j] != -1:\n",
    "        return memo[i][j]\n",
    "    if i < N - 1: \n",
    "        memo[i][j] = bananas[i][j] + max(monkey_banana_problem(bananas, i + 1, j, N), monkey_banana_problem(bananas, i + 1, j + 1, N))\n",
    "    else: \n",
    "        memo[i][j] = bananas[i][j] + max(monkey_banana_problem(bananas, i + 1, j - 1, N), monkey_banana_problem(bananas, i + 1, j, N))\n",
    "\n",
    "    return memo[i][j]\n",
    "\n",
    "\n",
    "T = int(input())\n",
    "\n",
    "for case in range(1, T + 1):\n",
    "    N = int(input()) \n",
    "    bananas = []\n",
    "\n",
    "    for i in range(N):\n",
    "        bananas.append(list(map(int, input().split())))\n",
    "    for i in range(N - 1):\n",
    "        bananas.append(list(map(int, input().split())))\n",
    "    for i in range(2 * N):\n",
    "        for j in range(N):\n",
    "            memo[i][j] = -1\n",
    "\n",
    "    max_bananas = monkey_banana_problem(bananas, 0, 0, N)\n",
    "\n",
    "    print(f\"Case {case}: {max_bananas}\")"
   ]
  },
  {
   "cell_type": "markdown",
   "metadata": {},
   "source": [
    "C"
   ]
  },
  {
   "cell_type": "code",
   "execution_count": null,
   "metadata": {},
   "outputs": [],
   "source": [
    "def coundstairs():\n",
    "    num = int(input())\n",
    "    if num < 5:\n",
    "        print(0)\n",
    "        return\n",
    "\n",
    "    memo = [[0] * (num + 2) for i in range(num + 2)]\n",
    "\n",
    "    for j in range(num + 2):\n",
    "        memo[0][j] = 1 \n",
    "\n",
    "    for total in range(1, num + 1):\n",
    "        for start in range(num, 0, -1):\n",
    "            if start > total:\n",
    "                memo[total][start] = 0\n",
    "            else:\n",
    "                memo[total][start] = memo[total - start][start + 1] + memo[total][start + 1]\n",
    "\n",
    "    print(memo[num][1] - 1)\n",
    "\n",
    "coundstairs()"
   ]
  },
  {
   "cell_type": "markdown",
   "metadata": {},
   "source": [
    "B"
   ]
  },
  {
   "cell_type": "code",
   "execution_count": null,
   "metadata": {},
   "outputs": [],
   "source": [
    "def metro():\n",
    "    import math\n",
    "    rows, cols = map(int, input().split())\n",
    "    num_diags = int(input())\n",
    "    diagpositions = set()\n",
    "\n",
    "    for i in range(num_diags):\n",
    "        r, c = map(int, input().split())\n",
    "        diagpositions.add((r, c))\n",
    "\n",
    "    costgrid = [[float('inf')] * (cols + 1) for j in range(rows + 1)]\n",
    "    costgrid[0][0] = 0\n",
    "\n",
    "    for r in range(rows + 1):\n",
    "        for c in range(cols + 1):\n",
    "            if r == 0 and c == 0:\n",
    "                continue\n",
    "            if r > 0:\n",
    "                costgrid[r][c] = min(costgrid[r][c], costgrid[r - 1][c] + 100)\n",
    "            if c > 0:\n",
    "                costgrid[r][c] = min(costgrid[r][c], costgrid[r][c - 1] + 100)\n",
    "            if r > 0 and c > 0 and (r, c) in diagpositions:\n",
    "                costgrid[r][c] = min(costgrid[r][c], costgrid[r - 1][c - 1] + 100 * math.sqrt(2))\n",
    "\n",
    "    print(round(costgrid[rows][cols]))\n",
    "\n",
    "metro()"
   ]
  },
  {
   "cell_type": "markdown",
   "metadata": {},
   "source": [
    "A"
   ]
  },
  {
   "cell_type": "code",
   "execution_count": null,
   "metadata": {},
   "outputs": [],
   "source": [
    "memo = [-1] * 46 \n",
    "\n",
    "def colour(n):\n",
    "    if n == 1:\n",
    "        return 2\n",
    "    if n == 2:\n",
    "        return 2\n",
    "    if memo[n] != -1:\n",
    "        return memo[n]\n",
    "\n",
    "    memo[n] = colour(n - 1) + colour(n - 2)\n",
    "    return memo[n]\n",
    "\n",
    "n = int(input()) \n",
    "print(colour(n))"
   ]
  },
  {
   "cell_type": "markdown",
   "metadata": {},
   "source": [
    "E"
   ]
  },
  {
   "cell_type": "code",
   "execution_count": null,
   "metadata": {},
   "outputs": [],
   "source": [
    "def min_paint_cost(T):\n",
    "    for t in range(1, T + 1):\n",
    "        input()\n",
    "        n = int(input().strip())\n",
    "\n",
    "        dp = [list(map(int, input().split())) for _ in range(n)]\n",
    "\n",
    "        for i in range(1, n):\n",
    "            dp[i][0] += min(dp[i-1][1], dp[i-1][2])\n",
    "            dp[i][1] += min(dp[i-1][0], dp[i-1][2])\n",
    "            dp[i][2] += min(dp[i-1][0], dp[i-1][1])\n",
    "\n",
    "        print(f\"Case {t}: {min(dp[-1])}\")\n",
    "\n",
    "T = int(input().strip())\n",
    "min_paint_cost(T)\n"
   ]
  },
  {
   "cell_type": "markdown",
   "metadata": {},
   "source": [
    "G"
   ]
  },
  {
   "cell_type": "code",
   "execution_count": null,
   "metadata": {},
   "outputs": [],
   "source": [
    "def count_valid_numbers(m, n, digits):\n",
    "\n",
    "    dp = {d: 1 for d in digits}\n",
    "\n",
    "    for length in range(2, n + 1):\n",
    "        new_dp = {d: 0 for d in digits}\n",
    "\n",
    "        for d in digits: \n",
    "            for prev in digits:\n",
    "                if abs(d - prev) <= 2:\n",
    "                    new_dp[d] += dp[prev]\n",
    "\n",
    "        dp = new_dp\n",
    "\n",
    "    return sum(dp.values())\n",
    "\n",
    "\n",
    "T = int(input())\n",
    "\n",
    "for case_num in range(1, T + 1):\n",
    "    m, n = map(int, input().split())\n",
    "    digits = list(map(int, input().split()))\n",
    "\n",
    "    result = count_valid_numbers(m, n, digits)\n",
    "    print(f\"Case {case_num}: {result}\")"
   ]
  },
  {
   "cell_type": "markdown",
   "metadata": {},
   "source": [
    "---"
   ]
  }
 ],
 "metadata": {
  "kernelspec": {
   "display_name": "Python 3",
   "language": "python",
   "name": "python3"
  },
  "language_info": {
   "codemirror_mode": {
    "name": "ipython",
    "version": 3
   },
   "file_extension": ".py",
   "mimetype": "text/x-python",
   "name": "python",
   "nbconvert_exporter": "python",
   "pygments_lexer": "ipython3",
   "version": "3.11.5"
  }
 },
 "nbformat": 4,
 "nbformat_minor": 2
}
